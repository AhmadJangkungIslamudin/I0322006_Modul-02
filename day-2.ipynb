{
 "cells": [
  {
   "cell_type": "code",
   "execution_count": 8,
   "metadata": {},
   "outputs": [
    {
     "name": "stdout",
     "output_type": "stream",
     "text": [
      "Jadi volume balok dengan panjang 4, lebar 3, dan tinggi 2 adalah 24 cm^3\n",
      "Dan luas permukaan balok adalah 52 cm^2\n"
     ]
    }
   ],
   "source": [
    "panjang = int(input('Masukkan panjang balok dalam cm : '))\n",
    "lebar = int(input('Masukkan lebar dalam cm : '))\n",
    "tinggi = int(input('Masukkan tinggi dalam cm : '))\n",
    "volume = panjang*tinggi*lebar\n",
    "\n",
    "luas_permukaan1 = panjang*tinggi\n",
    "luas_permukaan2 = lebar*tinggi\n",
    "luas_permukaan3 = panjang*lebar\n",
    "luas_permukaan = (luas_permukaan1+luas_permukaan2+luas_permukaan3)*2\n",
    "\n",
    "print(f'Jadi volume balok dengan panjang {panjang}, lebar {lebar}, dan tinggi {tinggi} adalah {volume} cm^3')\n",
    "print(f'Dan luas permukaan balok adalah {luas_permukaan} cm^2')"
   ]
  },
  {
   "cell_type": "code",
   "execution_count": 9,
   "metadata": {},
   "outputs": [
    {
     "name": "stdout",
     "output_type": "stream",
     "text": [
      "[2, 4, 3]\n",
      "jarak rumah yang paling jauh adalah : 4\n",
      "jarak rumah yang paling dekat adalah : 2\n",
      "Nilai dari mean adalah : 3.0\n"
     ]
    }
   ],
   "source": [
    "jarak_rumah = []\n",
    "nilai = input('Masukkan jarak rumahmu dan 2 temanmu ke kampus : ')\n",
    "jarak_rumah = nilai.split(',')\n",
    "\n",
    "angka_list = [int(nilai) for nilai in jarak_rumah]\n",
    "print(angka_list)\n",
    "\n",
    "#mencari nilai maksimal dan minimal \n",
    "print(f'jarak rumah yang paling jauh adalah : {max(angka_list)}')\n",
    "print(f'jarak rumah yang paling dekat adalah : {min(angka_list)}')\n",
    "\n",
    "#mencari nilai mean/rata-rata\n",
    "mean = sum(angka_list)/len(angka_list)\n",
    "print(f'Nilai dari mean adalah : {mean}')"
   ]
  },
  {
   "cell_type": "code",
   "execution_count": 3,
   "metadata": {},
   "outputs": [],
   "source": [
    "data_kelas = {\n",
    "    'Kelas A': {\n",
    "        'nama' : ['Ajik', 'Indra', 'Cheza'],\n",
    "        'angkatan' : [2022]\n",
    "    }\n",
    "}"
   ]
  },
  {
   "cell_type": "code",
   "execution_count": 18,
   "metadata": {},
   "outputs": [
    {
     "name": "stdout",
     "output_type": "stream",
     "text": [
      "['program.c', 'studio.h', 'sample.h', 'a.out', 'math.h', 'hpp.out']\n",
      "['s.program', 'studio.hpp', 'sample.hpp', 's.out', 'math.hpp', 'hpp.out']\n"
     ]
    }
   ],
   "source": [
    "filenames = ['program.c', 'studio.hpp', 'sample.hpp', 'a.out', 'math.hpp', 'hpp.out']\n",
    "newfilenames = [filename.replace('.hpp', '.h') if filename.endswith('.hpp') else filename for filename in filenames]\n",
    "\n",
    "print(newfilenames)\n",
    "\n",
    "filenamess = ['x.program', 'studio.hpp', 'sample.hpp', 'x.out', 'math.hpp', 'hpp.out']\n",
    "newfilenamess = [filename.replace('x.', 's.') if filename.startswith('x.') else filename for filename in filenamess]\n",
    "\n",
    "print(newfilenamess)"
   ]
  },
  {
   "cell_type": "code",
   "execution_count": 16,
   "metadata": {},
   "outputs": [
    {
     "name": "stdout",
     "output_type": "stream",
     "text": [
      "Hello\n",
      "World\n",
      "HloWrd\n"
     ]
    }
   ],
   "source": [
    "string = 'Hello World'\n",
    "print(string[0:5]) #Hello\n",
    "print(string[6:11]) #World\n",
    "print(string[0:11:2]) #Hl0Wrd"
   ]
  },
  {
   "cell_type": "code",
   "execution_count": 28,
   "metadata": {},
   "outputs": [
    {
     "name": "stdout",
     "output_type": "stream",
     "text": [
      "True\n"
     ]
    }
   ],
   "source": [
    "#Boolean\n",
    "\n",
    "z = 100 == 10*10\n",
    "print(z)\n",
    "\n"
   ]
  },
  {
   "cell_type": "code",
   "execution_count": 41,
   "metadata": {},
   "outputs": [
    {
     "name": "stdout",
     "output_type": "stream",
     "text": [
      "0b1010\n"
     ]
    }
   ],
   "source": [
    "#Binary\n",
    "\n",
    "biner = bin(10)\n",
    "print(biner)"
   ]
  }
 ],
 "metadata": {
  "kernelspec": {
   "display_name": "Python 3",
   "language": "python",
   "name": "python3"
  },
  "language_info": {
   "codemirror_mode": {
    "name": "ipython",
    "version": 3
   },
   "file_extension": ".py",
   "mimetype": "text/x-python",
   "name": "python",
   "nbconvert_exporter": "python",
   "pygments_lexer": "ipython3",
   "version": "3.11.2"
  },
  "orig_nbformat": 4
 },
 "nbformat": 4,
 "nbformat_minor": 2
}
